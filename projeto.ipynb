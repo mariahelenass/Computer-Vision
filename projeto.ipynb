{
  "cells": [
    {
      "cell_type": "markdown",
      "metadata": {
        "id": "view-in-github",
        "colab_type": "text"
      },
      "source": [
        "<a href=\"https://colab.research.google.com/github/mariahelenass/Computer-Vision/blob/main/projeto.ipynb\" target=\"_parent\"><img src=\"https://colab.research.google.com/assets/colab-badge.svg\" alt=\"Open In Colab\"/></a>"
      ]
    },
    {
      "cell_type": "markdown",
      "metadata": {
        "id": "mtK7ZDfOJO-0"
      },
      "source": [
        "## Pipeline inicial\n",
        "### Modelo pré treinado do torchgeo - ResNet18 Sentinel 2 RGB MOCO"
      ]
    },
    {
      "cell_type": "code",
      "execution_count": null,
      "metadata": {
        "id": "8vLxwSL5JO-1"
      },
      "outputs": [],
      "source": [
        "import torch\n",
        "from torchgeo.models import resnet18, ResNet18_Weights\n",
        "import torch.nn as nn\n",
        "import torch.optim as optim\n",
        "from torchvision import datasets, transforms\n",
        "from torch.utils.data import DataLoader\n",
        "from PIL import ImageFile\n",
        "from sklearn.metrics import confusion_matrix, classification_report\n",
        "import seaborn as sns\n",
        "import matplotlib.pyplot as plt\n",
        "import numpy as np"
      ]
    },
    {
      "cell_type": "code",
      "execution_count": null,
      "metadata": {
        "id": "O3d-OXvbJO-2"
      },
      "outputs": [],
      "source": [
        "ImageFile.LOAD_TRUNCATED_IMAGES = True"
      ]
    },
    {
      "cell_type": "code",
      "execution_count": null,
      "metadata": {
        "id": "Wox9r30vJO-3"
      },
      "outputs": [],
      "source": [
        "import ssl\n",
        "ssl._create_default_https_context = ssl._create_unverified_context"
      ]
    },
    {
      "cell_type": "code",
      "execution_count": null,
      "metadata": {
        "id": "5Lt7stNPJO-3"
      },
      "outputs": [],
      "source": [
        "train = \"/Users/mariahelena/Downloads/projetovisaocomp/train\"\n",
        "valid   = \"/Users/mariahelena/Downloads/projetovisaocomp/valid\"\n",
        "test  = \"/Users/mariahelena/Downloads/projetovisaocomp/test\""
      ]
    },
    {
      "cell_type": "code",
      "execution_count": null,
      "metadata": {
        "id": "g7_nkcQ1JO-4"
      },
      "outputs": [],
      "source": [
        "device = torch.device(\"cuda\" if torch.cuda.is_available() else \"cpu\")"
      ]
    },
    {
      "cell_type": "code",
      "execution_count": null,
      "metadata": {
        "id": "VnOrS0ApJO-4"
      },
      "outputs": [],
      "source": [
        "transform = transforms.Compose([\n",
        "    transforms.Resize((128, 128)),\n",
        "    transforms.ToTensor(),\n",
        "])"
      ]
    },
    {
      "cell_type": "code",
      "execution_count": null,
      "metadata": {
        "id": "WrsjXXtKJO-4"
      },
      "outputs": [],
      "source": [
        "weights = ResNet18_Weights.SENTINEL2_RGB_MOCO"
      ]
    },
    {
      "cell_type": "code",
      "execution_count": null,
      "metadata": {
        "id": "8pYHmIuOJO-5"
      },
      "outputs": [],
      "source": [
        "train_dataset = datasets.ImageFolder(train, transform=transform)\n",
        "valid_dataset = datasets.ImageFolder(valid, transform=transform)\n",
        "test_dataset  = datasets.ImageFolder(test,  transform=transform)"
      ]
    },
    {
      "cell_type": "code",
      "execution_count": null,
      "metadata": {
        "id": "7zu-ROXvJO-5"
      },
      "outputs": [],
      "source": [
        "train_loader = DataLoader(train_dataset, batch_size=32, shuffle=True)\n",
        "valid_loader = DataLoader(valid_dataset, batch_size=32)\n",
        "test_loader  = DataLoader(test_dataset, batch_size=32)"
      ]
    },
    {
      "cell_type": "code",
      "execution_count": null,
      "metadata": {
        "id": "n_NV5LBbJO-6"
      },
      "outputs": [],
      "source": [
        "model = resnet18(weights=weights)"
      ]
    },
    {
      "cell_type": "code",
      "execution_count": null,
      "metadata": {
        "id": "SsJzN2YpJO-6"
      },
      "outputs": [],
      "source": [
        "# congelando camadas\n",
        "for param in model.parameters():\n",
        "    param.requires_grad = False"
      ]
    },
    {
      "cell_type": "code",
      "execution_count": null,
      "metadata": {
        "id": "_dj0ZM_tJO-7"
      },
      "outputs": [],
      "source": [
        "# substituindo a ultima camada para o problema atual\n",
        "classes = len(train_dataset.classes)\n",
        "model.fc = nn.Linear(model.fc.in_features, classes)\n",
        "\n",
        "for param in model.fc.parameters():\n",
        "    param.requires_grad = True\n",
        "\n",
        "model = model.to(device)"
      ]
    },
    {
      "cell_type": "code",
      "execution_count": null,
      "metadata": {
        "id": "6AVGzd1UJO-7"
      },
      "outputs": [],
      "source": [
        "criterion = nn.CrossEntropyLoss()\n",
        "optimizer = optim.Adam(model.fc.parameters(), lr=0.001)"
      ]
    },
    {
      "cell_type": "code",
      "execution_count": null,
      "metadata": {
        "id": "asYFPKA_JO-8",
        "outputId": "8d9a7f65-e929-4677-fe3e-a21755e4bea8"
      },
      "outputs": [
        {
          "name": "stdout",
          "output_type": "stream",
          "text": [
            "Época 1/10 | Loss: 0.2690 | Train Acc: 92.30% | Val Acc: 94.14%\n",
            "Época 2/10 | Loss: 0.1742 | Train Acc: 93.58% | Val Acc: 94.73%\n",
            "Época 3/10 | Loss: 0.1579 | Train Acc: 94.08% | Val Acc: 95.11%\n",
            "Época 4/10 | Loss: 0.1508 | Train Acc: 94.30% | Val Acc: 95.21%\n",
            "Época 5/10 | Loss: 0.1433 | Train Acc: 94.69% | Val Acc: 95.43%\n",
            "Época 6/10 | Loss: 0.1407 | Train Acc: 94.72% | Val Acc: 95.59%\n",
            "Época 7/10 | Loss: 0.1378 | Train Acc: 94.94% | Val Acc: 95.35%\n",
            "Época 8/10 | Loss: 0.1365 | Train Acc: 94.96% | Val Acc: 95.49%\n",
            "Época 9/10 | Loss: 0.1332 | Train Acc: 95.04% | Val Acc: 95.70%\n",
            "Época 10/10 | Loss: 0.1310 | Train Acc: 95.21% | Val Acc: 95.70%\n"
          ]
        }
      ],
      "source": [
        "num_epochs = 10\n",
        "for epoch in range(num_epochs):\n",
        "    model.train()\n",
        "    running_loss = 0.0\n",
        "    correct = 0\n",
        "    total = 0\n",
        "\n",
        "    for images, rotulos in train_loader:\n",
        "        images, rotulos = images.to(device), rotulos.to(device)\n",
        "\n",
        "        optimizer.zero_grad()\n",
        "        outputs = model(images)\n",
        "        loss = criterion(outputs, rotulos)\n",
        "        loss.backward()\n",
        "        optimizer.step()\n",
        "\n",
        "        running_loss += loss.item()\n",
        "        _, predicted = torch.max(outputs, 1)\n",
        "        correct += (predicted == rotulos).sum().item()\n",
        "        total += rotulos.size(0)\n",
        "\n",
        "    train_acc = 100 * correct / total\n",
        "    train_loss = running_loss / len(train_loader)\n",
        "\n",
        "    # Validação\n",
        "    model.eval()\n",
        "    val_correct = 0\n",
        "    val_total = 0\n",
        "    with torch.no_grad():\n",
        "        for images, rotulos in valid_loader:\n",
        "            images, rotulos = images.to(device), rotulos.to(device)\n",
        "            outputs = model(images)\n",
        "            _, predicted = torch.max(outputs, 1)\n",
        "            val_correct += (predicted == rotulos).sum().item()\n",
        "            val_total += rotulos.size(0)\n",
        "    val_acc = 100 * val_correct / val_total\n",
        "\n",
        "    # Resultado\n",
        "    print(f\"Época {epoch+1}/{num_epochs} | Loss: {train_loss:.4f} | Train Acc: {train_acc:.2f}% | Val Acc: {val_acc:.2f}%\")"
      ]
    },
    {
      "cell_type": "code",
      "execution_count": null,
      "metadata": {
        "id": "yQ1qvWbiJO-9",
        "outputId": "8a295b7f-6ad8-45ca-eca8-5f206bf5f7fe"
      },
      "outputs": [
        {
          "name": "stdout",
          "output_type": "stream",
          "text": [
            "Acurácia no teste: 96.78%\n"
          ]
        }
      ],
      "source": [
        "acertos, total = 0, 0\n",
        "with torch.no_grad():\n",
        "    for images, rotulos in test_loader:\n",
        "        images, rotulos = images.to(device), rotulos.to(device)\n",
        "        preds = model(images).argmax(1)\n",
        "        acertos += (preds == rotulos).sum().item()\n",
        "        total += rotulos.size(0)\n",
        "print(f\"Acurácia no teste: {100 * acertos / total:.2f}%\")"
      ]
    },
    {
      "cell_type": "code",
      "execution_count": null,
      "metadata": {
        "id": "VD3xYu5fJO-9"
      },
      "outputs": [],
      "source": [
        "model.eval()\n",
        "\n",
        "predicoes = []\n",
        "rotulos = []\n",
        "\n",
        "with torch.no_grad():\n",
        "    for images, labels in test_loader:\n",
        "        images = images.to(device)\n",
        "        outputs = model(images)\n",
        "        _, preds = torch.max(outputs, 1)\n",
        "        predicoes.extend(preds.cpu().numpy())\n",
        "        rotulos.extend(labels.cpu().numpy())\n",
        "\n",
        "predicoes = np.array(predicoes)\n",
        "rotulos = np.array(rotulos)\n",
        "\n",
        "class_labels = test_loader.dataset.classes\n",
        "\n",
        "cm = confusion_matrix(rotulos, predicoes)"
      ]
    },
    {
      "cell_type": "code",
      "execution_count": null,
      "metadata": {
        "id": "sUAiFoDKJO--",
        "outputId": "a446f518-d6ee-4ee4-90e3-9eb84fcbcd60"
      },
      "outputs": [
        {
          "data": {
            "image/png": "[encoded data removed]",
            "text/plain": [
              "<Figure size 600x500 with 2 Axes>"
            ]
          },
          "metadata": {},
          "output_type": "display_data"
        },
        {
          "name": "stdout",
          "output_type": "stream",
          "text": [
            "Relatório de classificação:\n",
            "\n",
            "              precision    recall  f1-score   support\n",
            "\n",
            "  nowildfire       0.95      0.97      0.96      2820\n",
            "    wildfire       0.98      0.96      0.97      3480\n",
            "\n",
            "    accuracy                           0.97      6300\n",
            "   macro avg       0.97      0.97      0.97      6300\n",
            "weighted avg       0.97      0.97      0.97      6300\n",
            "\n"
          ]
        }
      ],
      "source": [
        "plt.figure(figsize=(6, 5))\n",
        "sns.heatmap(cm, annot=True, fmt='d', cmap='Reds',\n",
        "            xticklabels=class_labels, yticklabels=class_labels)\n",
        "plt.xlabel('Predição')\n",
        "plt.ylabel('Verdadeiro')\n",
        "plt.title('Matriz de Confusão')\n",
        "plt.tight_layout()\n",
        "plt.show()\n",
        "\n",
        "print(\"Relatório de classificação:\\n\")\n",
        "print(classification_report(rotulos, predicoes, target_names=class_labels))"
      ]
    }
  ],
  "metadata": {
    "kernelspec": {
      "display_name": "Python 3",
      "language": "python",
      "name": "python3"
    },
    "language_info": {
      "codemirror_mode": {
        "name": "ipython",
        "version": 3
      },
      "file_extension": ".py",
      "mimetype": "text/x-python",
      "name": "python",
      "nbconvert_exporter": "python",
      "pygments_lexer": "ipython3",
      "version": "3.10.1"
    },
    "colab": {
      "provenance": [],
      "include_colab_link": true
    }
  },
  "nbformat": 4,
  "nbformat_minor": 0
}