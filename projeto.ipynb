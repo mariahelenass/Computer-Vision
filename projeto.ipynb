{
 "cells": [
  {
   "cell_type": "markdown",
   "metadata": {},
   "source": [
    "### Arquitetura I - Modelo pré treinado do torchgeo (ResNet18 Sentinel 2 RGB MOCO)"
   ]
  },
  {
   "cell_type": "code",
   "execution_count": 1,
   "metadata": {},
   "outputs": [
    {
     "name": "stderr",
     "output_type": "stream",
     "text": [
      "/Library/Frameworks/Python.framework/Versions/3.10/lib/python3.10/site-packages/tqdm/auto.py:21: TqdmWarning: IProgress not found. Please update jupyter and ipywidgets. See https://ipywidgets.readthedocs.io/en/stable/user_install.html\n",
      "  from .autonotebook import tqdm as notebook_tqdm\n"
     ]
    }
   ],
   "source": [
    "import torch\n",
    "from torchgeo.models import resnet18, ResNet18_Weights\n",
    "import torch.nn as nn\n",
    "import torch.optim as optim\n",
    "from torchvision import datasets, transforms\n",
    "from torch.utils.data import DataLoader\n",
    "from PIL import ImageFile\n",
    "from sklearn.metrics import confusion_matrix, classification_report\n",
    "import seaborn as sns\n",
    "import matplotlib.pyplot as plt\n",
    "import numpy as np"
   ]
  },
  {
   "cell_type": "code",
   "execution_count": 2,
   "metadata": {},
   "outputs": [],
   "source": [
    "ImageFile.LOAD_TRUNCATED_IMAGES = True"
   ]
  },
  {
   "cell_type": "code",
   "execution_count": 3,
   "metadata": {},
   "outputs": [],
   "source": [
    "import ssl\n",
    "ssl._create_default_https_context = ssl._create_unverified_context"
   ]
  },
  {
   "cell_type": "code",
   "execution_count": 4,
   "metadata": {},
   "outputs": [],
   "source": [
    "train = \"/Users/mariahelena/Downloads/projetovisaocomp/train\"\n",
    "valid   = \"/Users/mariahelena/Downloads/projetovisaocomp/valid\"\n",
    "test  = \"/Users/mariahelena/Downloads/projetovisaocomp/test\""
   ]
  },
  {
   "cell_type": "code",
   "execution_count": 5,
   "metadata": {},
   "outputs": [],
   "source": [
    "device = torch.device(\"cuda\" if torch.cuda.is_available() else \"cpu\")"
   ]
  },
  {
   "cell_type": "code",
   "execution_count": 6,
   "metadata": {},
   "outputs": [],
   "source": [
    "transform = transforms.Compose([\n",
    "    transforms.Resize((128, 128)), \n",
    "    transforms.ToTensor(),\n",
    "])"
   ]
  },
  {
   "cell_type": "code",
   "execution_count": 15,
   "metadata": {},
   "outputs": [],
   "source": [
    "weights = ResNet18_Weights.SENTINEL2_RGB_MOCO"
   ]
  },
  {
   "cell_type": "code",
   "execution_count": 7,
   "metadata": {},
   "outputs": [],
   "source": [
    "train_dataset = datasets.ImageFolder(train, transform=transform)\n",
    "valid_dataset = datasets.ImageFolder(valid, transform=transform)\n",
    "test_dataset  = datasets.ImageFolder(test,  transform=transform)"
   ]
  },
  {
   "cell_type": "code",
   "execution_count": 8,
   "metadata": {},
   "outputs": [],
   "source": [
    "train_loader = DataLoader(train_dataset, batch_size=32, shuffle=True)\n",
    "valid_loader = DataLoader(valid_dataset, batch_size=32)\n",
    "test_loader  = DataLoader(test_dataset, batch_size=32)"
   ]
  },
  {
   "cell_type": "code",
   "execution_count": 16,
   "metadata": {},
   "outputs": [],
   "source": [
    "model = resnet18(weights=weights)"
   ]
  },
  {
   "cell_type": "code",
   "execution_count": 11,
   "metadata": {},
   "outputs": [],
   "source": [
    "# congelando camadas \n",
    "for param in model.parameters():\n",
    "    param.requires_grad = False"
   ]
  },
  {
   "cell_type": "code",
   "execution_count": 12,
   "metadata": {},
   "outputs": [],
   "source": [
    "# substituindo a ultima camada para o problema atual \n",
    "classes = len(train_dataset.classes)\n",
    "model.fc = nn.Linear(model.fc.in_features, classes)\n",
    "\n",
    "for param in model.fc.parameters():\n",
    "    param.requires_grad = True\n",
    "\n",
    "model = model.to(device)"
   ]
  },
  {
   "cell_type": "code",
   "execution_count": 17,
   "metadata": {},
   "outputs": [],
   "source": [
    "criterion = nn.CrossEntropyLoss()\n",
    "optimizer = optim.Adam(model.fc.parameters(), lr=0.001)"
   ]
  },
  {
   "cell_type": "code",
   "execution_count": null,
   "metadata": {},
   "outputs": [
    {
     "name": "stdout",
     "output_type": "stream",
     "text": [
      "Época 1/10 | Loss: 0.2690 | Train Acc: 92.30% | Val Acc: 94.14%\n",
      "Época 2/10 | Loss: 0.1742 | Train Acc: 93.58% | Val Acc: 94.73%\n",
      "Época 3/10 | Loss: 0.1579 | Train Acc: 94.08% | Val Acc: 95.11%\n",
      "Época 4/10 | Loss: 0.1508 | Train Acc: 94.30% | Val Acc: 95.21%\n",
      "Época 5/10 | Loss: 0.1433 | Train Acc: 94.69% | Val Acc: 95.43%\n",
      "Época 6/10 | Loss: 0.1407 | Train Acc: 94.72% | Val Acc: 95.59%\n",
      "Época 7/10 | Loss: 0.1378 | Train Acc: 94.94% | Val Acc: 95.35%\n",
      "Época 8/10 | Loss: 0.1365 | Train Acc: 94.96% | Val Acc: 95.49%\n",
      "Época 9/10 | Loss: 0.1332 | Train Acc: 95.04% | Val Acc: 95.70%\n",
      "Época 10/10 | Loss: 0.1310 | Train Acc: 95.21% | Val Acc: 95.70%\n"
     ]
    }
   ],
   "source": [
    "num_epochs = 10\n",
    "for epoch in range(num_epochs):\n",
    "    model.train()\n",
    "    running_loss = 0.0\n",
    "    correct = 0\n",
    "    total = 0\n",
    "\n",
    "    for images, rotulos in train_loader:\n",
    "        images, rotulos = images.to(device), rotulos.to(device)\n",
    "\n",
    "        optimizer.zero_grad()\n",
    "        outputs = model(images)\n",
    "        loss = criterion(outputs, rotulos)\n",
    "        loss.backward()\n",
    "        optimizer.step()\n",
    "\n",
    "        running_loss += loss.item()\n",
    "        _, predicted = torch.max(outputs, 1)\n",
    "        correct += (predicted == rotulos).sum().item()\n",
    "        total += rotulos.size(0)\n",
    "\n",
    "    train_acc = 100 * correct / total\n",
    "    train_loss = running_loss / len(train_loader)\n",
    "\n",
    "    # Validação\n",
    "    model.eval()\n",
    "    val_correct = 0\n",
    "    val_total = 0\n",
    "    with torch.no_grad():\n",
    "        for images, rotulos in valid_loader:\n",
    "            images, rotulos = images.to(device), rotulos.to(device)\n",
    "            outputs = model(images)\n",
    "            _, predicted = torch.max(outputs, 1)\n",
    "            val_correct += (predicted == rotulos).sum().item()\n",
    "            val_total += rotulos.size(0)\n",
    "    val_acc = 100 * val_correct / val_total\n",
    "\n",
    "    # Resultado \n",
    "    print(f\"Época {epoch+1}/{num_epochs} | Loss: {train_loss:.4f} | Train Acc: {train_acc:.2f}% | Val Acc: {val_acc:.2f}%\")"
   ]
  },
  {
   "cell_type": "code",
   "execution_count": null,
   "metadata": {},
   "outputs": [
    {
     "name": "stdout",
     "output_type": "stream",
     "text": [
      "Acurácia no teste: 96.78%\n"
     ]
    }
   ],
   "source": [
    "acertos, total = 0, 0\n",
    "with torch.no_grad():\n",
    "    for images, rotulos in test_loader:\n",
    "        images, rotulos = images.to(device), rotulos.to(device)\n",
    "        preds = model(images).argmax(1)\n",
    "        acertos += (preds == rotulos).sum().item()\n",
    "        total += rotulos.size(0)\n",
    "print(f\"Acurácia no teste: {100 * acertos / total:.2f}%\")"
   ]
  },
  {
   "cell_type": "code",
   "execution_count": 21,
   "metadata": {},
   "outputs": [],
   "source": [
    "model.eval()\n",
    "\n",
    "predicoes = []\n",
    "rotulos = []\n",
    "\n",
    "with torch.no_grad():\n",
    "    for images, labels in test_loader:\n",
    "        images = images.to(device)\n",
    "        outputs = model(images)\n",
    "        _, preds = torch.max(outputs, 1)\n",
    "        predicoes.extend(preds.cpu().numpy())\n",
    "        rotulos.extend(labels.cpu().numpy())\n",
    "\n",
    "predicoes = np.array(predicoes)\n",
    "rotulos = np.array(rotulos)\n",
    "\n",
    "class_labels = test_loader.dataset.classes\n",
    "\n",
    "cm = confusion_matrix(rotulos, predicoes)"
   ]
  },
  {
   "cell_type": "code",
   "execution_count": 23,
   "metadata": {},
   "outputs": [
    {
     "data": {
      "image/png": "[encoded data removed]",
      "text/plain": [
       "<Figure size 600x500 with 2 Axes>"
      ]
     },
     "metadata": {},
     "output_type": "display_data"
    },
    {
     "name": "stdout",
     "output_type": "stream",
     "text": [
      "Relatório de classificação:\n",
      "\n",
      "              precision    recall  f1-score   support\n",
      "\n",
      "  nowildfire       0.95      0.97      0.96      2820\n",
      "    wildfire       0.98      0.96      0.97      3480\n",
      "\n",
      "    accuracy                           0.97      6300\n",
      "   macro avg       0.97      0.97      0.97      6300\n",
      "weighted avg       0.97      0.97      0.97      6300\n",
      "\n"
     ]
    }
   ],
   "source": [
    "plt.figure(figsize=(6, 5))\n",
    "sns.heatmap(cm, annot=True, fmt='d', cmap='Reds',\n",
    "            xticklabels=class_labels, yticklabels=class_labels)\n",
    "plt.xlabel('Predição')\n",
    "plt.ylabel('Verdadeiro')\n",
    "plt.title('Matriz de Confusão')\n",
    "plt.tight_layout()\n",
    "plt.show()\n",
    "\n",
    "print(\"Relatório de classificação:\\n\")\n",
    "print(classification_report(rotulos, predicoes, target_names=class_labels))"
   ]
  },
  {
   "cell_type": "markdown",
   "metadata": {},
   "source": [
    "### Arquitetura II - Modelo pré treinado do torchgeo (ResNet18 Sentinel 2 RGB SECO)"
   ]
  },
  {
   "cell_type": "code",
   "execution_count": 9,
   "metadata": {},
   "outputs": [],
   "source": [
    "weights_seco = ResNet18_Weights.SENTINEL2_RGB_SECO"
   ]
  },
  {
   "cell_type": "code",
   "execution_count": 10,
   "metadata": {},
   "outputs": [
    {
     "name": "stderr",
     "output_type": "stream",
     "text": [
      "Downloading: \"https://hf.co/torchgeo/resnet18_sentinel2_rgb_seco/resolve/f8dcee692cf7142163b55a5c197d981fe0e717a0/resnet18_sentinel2_rgb_seco-cefca942.pth\" to /Users/mariahelena/.cache/torch/hub/checkpoints/resnet18_sentinel2_rgb_seco-cefca942.pth\n",
      "100%|██████████| 42.7M/42.7M [00:04<00:00, 9.16MB/s]\n"
     ]
    }
   ],
   "source": [
    "model_seco = resnet18(weights=weights_seco)"
   ]
  },
  {
   "cell_type": "code",
   "execution_count": 11,
   "metadata": {},
   "outputs": [],
   "source": [
    "# congelando camadas \n",
    "for param in model_seco.parameters():\n",
    "    param.requires_grad = False"
   ]
  },
  {
   "cell_type": "code",
   "execution_count": 12,
   "metadata": {},
   "outputs": [],
   "source": [
    "# substituindo a ultima camada para o problema atual \n",
    "classes = len(train_dataset.classes)\n",
    "model_seco.fc = nn.Linear(model_seco.fc.in_features, classes)\n",
    "\n",
    "for param in model_seco.fc.parameters():\n",
    "    param.requires_grad = True\n",
    "\n",
    "model_seco = model_seco.to(device)"
   ]
  },
  {
   "cell_type": "code",
   "execution_count": 19,
   "metadata": {},
   "outputs": [],
   "source": [
    "criterion_seco = nn.CrossEntropyLoss()\n",
    "optimizer_seco = optim.Adam(model_seco.fc.parameters(), lr=0.001)"
   ]
  },
  {
   "cell_type": "code",
   "execution_count": 20,
   "metadata": {},
   "outputs": [
    {
     "name": "stdout",
     "output_type": "stream",
     "text": [
      "Época 1/10 | Loss: 0.6863 | Train Acc: 57.05% | Val Acc: 58.73%\n",
      "Época 2/10 | Loss: 0.6868 | Train Acc: 57.27% | Val Acc: 58.87%\n",
      "Época 3/10 | Loss: 0.6862 | Train Acc: 56.91% | Val Acc: 58.25%\n",
      "Época 4/10 | Loss: 0.6865 | Train Acc: 56.97% | Val Acc: 59.10%\n",
      "Época 5/10 | Loss: 0.6861 | Train Acc: 56.86% | Val Acc: 57.51%\n",
      "Época 6/10 | Loss: 0.6866 | Train Acc: 56.86% | Val Acc: 58.98%\n",
      "Época 7/10 | Loss: 0.6863 | Train Acc: 57.00% | Val Acc: 58.70%\n",
      "Época 8/10 | Loss: 0.6860 | Train Acc: 57.01% | Val Acc: 59.03%\n",
      "Época 9/10 | Loss: 0.6868 | Train Acc: 56.87% | Val Acc: 58.11%\n",
      "Época 10/10 | Loss: 0.6868 | Train Acc: 56.91% | Val Acc: 58.13%\n"
     ]
    }
   ],
   "source": [
    "num_epochs = 10\n",
    "for epoch in range(num_epochs):\n",
    "    model_seco.train()\n",
    "    running_loss = 0.0\n",
    "    correct = 0\n",
    "    total = 0\n",
    "\n",
    "    for images, rotulos in train_loader:\n",
    "        images, rotulos = images.to(device), rotulos.to(device)\n",
    "\n",
    "        optimizer.zero_grad()\n",
    "        outputs = model_seco(images)\n",
    "        loss = criterion(outputs, rotulos)\n",
    "        loss.backward()\n",
    "        optimizer.step()\n",
    "\n",
    "        running_loss += loss.item()\n",
    "        _, predicted = torch.max(outputs, 1)\n",
    "        correct += (predicted == rotulos).sum().item()\n",
    "        total += rotulos.size(0)\n",
    "\n",
    "    train_acc = 100 * correct / total\n",
    "    train_loss = running_loss / len(train_loader)\n",
    "\n",
    "    # Validação\n",
    "    model_seco.eval()\n",
    "    val_correct = 0\n",
    "    val_total = 0\n",
    "    with torch.no_grad():\n",
    "        for images, rotulos in valid_loader:\n",
    "            images, rotulos = images.to(device), rotulos.to(device)\n",
    "            outputs = model_seco(images)\n",
    "            _, predicted = torch.max(outputs, 1)\n",
    "            val_correct += (predicted == rotulos).sum().item()\n",
    "            val_total += rotulos.size(0)\n",
    "    val_acc = 100 * val_correct / val_total\n",
    "\n",
    "    # Resultado \n",
    "    print(f\"Época {epoch+1}/{num_epochs} | Loss: {train_loss:.4f} | Train Acc: {train_acc:.2f}% | Val Acc: {val_acc:.2f}%\")"
   ]
  },
  {
   "cell_type": "code",
   "execution_count": 36,
   "metadata": {},
   "outputs": [
    {
     "name": "stdout",
     "output_type": "stream",
     "text": [
      "Acurácia no teste: 59.11%\n"
     ]
    }
   ],
   "source": [
    "acertos, total = 0, 0\n",
    "with torch.no_grad():\n",
    "    for images, rotulos in test_loader:\n",
    "        images, rotulos = images.to(device), rotulos.to(device)\n",
    "        preds = model_seco(images).argmax(1)\n",
    "        acertos += (preds == rotulos).sum().item()\n",
    "        total += rotulos.size(0)\n",
    "print(f\"Acurácia no teste: {100 * acertos / total:.2f}%\")"
   ]
  },
  {
   "cell_type": "code",
   "execution_count": 34,
   "metadata": {},
   "outputs": [],
   "source": [
    "model_seco.eval()\n",
    "\n",
    "predicoes = []\n",
    "rotulos = []\n",
    "\n",
    "with torch.no_grad():\n",
    "    for images, labels in test_loader:\n",
    "        images = images.to(device)\n",
    "        outputs = model_seco(images)\n",
    "        _, preds = torch.max(outputs, 1)\n",
    "        predicoes.extend(preds.cpu().numpy())\n",
    "        rotulos.extend(labels.cpu().numpy())\n",
    "\n",
    "predicoes = np.array(predicoes)\n",
    "rotulos = np.array(rotulos)\n",
    "\n",
    "class_labels = test_loader.dataset.classes\n",
    "\n",
    "cm2 = confusion_matrix(rotulos, predicoes)"
   ]
  },
  {
   "cell_type": "code",
   "execution_count": 35,
   "metadata": {},
   "outputs": [
    {
     "data": {
      "image/png": "[encoded data removed]",
      "text/plain": [
       "<Figure size 600x500 with 2 Axes>"
      ]
     },
     "metadata": {},
     "output_type": "display_data"
    },
    {
     "name": "stdout",
     "output_type": "stream",
     "text": [
      "Relatório de classificação:\n",
      "\n",
      "              precision    recall  f1-score   support\n",
      "\n",
      "  nowildfire       0.59      0.29      0.39      2820\n",
      "    wildfire       0.59      0.83      0.69      3480\n",
      "\n",
      "    accuracy                           0.59      6300\n",
      "   macro avg       0.59      0.56      0.54      6300\n",
      "weighted avg       0.59      0.59      0.56      6300\n",
      "\n"
     ]
    }
   ],
   "source": [
    "plt.figure(figsize=(6, 5))\n",
    "sns.heatmap(cm2, annot=True, fmt='d', cmap='YlOrRd',\n",
    "            xticklabels=class_labels, yticklabels=class_labels)\n",
    "plt.xlabel('Predição')\n",
    "plt.ylabel('Verdadeiro')\n",
    "plt.title('Matriz de Confusão')\n",
    "plt.tight_layout()\n",
    "plt.show()\n",
    "\n",
    "print(\"Relatório de classificação:\\n\")\n",
    "print(classification_report(rotulos, predicoes, target_names=class_labels))"
   ]
  },
  {
   "cell_type": "markdown",
   "metadata": {},
   "source": [
    "### Arquitetura III - ResNet18 ImageNet"
   ]
  },
  {
   "cell_type": "code",
   "execution_count": 23,
   "metadata": {},
   "outputs": [],
   "source": [
    "model_img = resnet18(pretrained=True)"
   ]
  },
  {
   "cell_type": "code",
   "execution_count": 24,
   "metadata": {},
   "outputs": [],
   "source": [
    "# congelando camadas \n",
    "for param in model_img.parameters():\n",
    "    param.requires_grad = False"
   ]
  },
  {
   "cell_type": "code",
   "execution_count": 25,
   "metadata": {},
   "outputs": [],
   "source": [
    "# substituindo a ultima camada para o problema atual \n",
    "classes = len(train_dataset.classes)\n",
    "model_img.fc = nn.Linear(model_img.fc.in_features, classes)\n",
    "\n",
    "for param in model_img.fc.parameters():\n",
    "    param.requires_grad = True\n",
    "\n",
    "model_img = model_img.to(device)"
   ]
  },
  {
   "cell_type": "code",
   "execution_count": 26,
   "metadata": {},
   "outputs": [],
   "source": [
    "criterion_img = nn.CrossEntropyLoss()\n",
    "optimizer_img = optim.Adam(model_img.fc.parameters(), lr=0.001)"
   ]
  },
  {
   "cell_type": "code",
   "execution_count": 27,
   "metadata": {},
   "outputs": [
    {
     "name": "stdout",
     "output_type": "stream",
     "text": [
      "Época 1/10 | Loss: 0.7234 | Train Acc: 44.42% | Val Acc: 40.92%\n",
      "Época 2/10 | Loss: 0.7237 | Train Acc: 44.18% | Val Acc: 41.95%\n",
      "Época 3/10 | Loss: 0.7236 | Train Acc: 44.15% | Val Acc: 41.21%\n",
      "Época 4/10 | Loss: 0.7236 | Train Acc: 44.27% | Val Acc: 42.13%\n",
      "Época 5/10 | Loss: 0.7239 | Train Acc: 43.90% | Val Acc: 41.56%\n",
      "Época 6/10 | Loss: 0.7231 | Train Acc: 44.56% | Val Acc: 39.94%\n",
      "Época 7/10 | Loss: 0.7232 | Train Acc: 44.38% | Val Acc: 40.73%\n",
      "Época 8/10 | Loss: 0.7237 | Train Acc: 44.29% | Val Acc: 40.87%\n",
      "Época 9/10 | Loss: 0.7231 | Train Acc: 44.27% | Val Acc: 42.46%\n",
      "Época 10/10 | Loss: 0.7236 | Train Acc: 44.49% | Val Acc: 38.33%\n"
     ]
    }
   ],
   "source": [
    "num_epochs = 10\n",
    "for epoch in range(num_epochs):\n",
    "    model_img.train()\n",
    "    running_loss = 0.0\n",
    "    correct = 0\n",
    "    total = 0\n",
    "\n",
    "    for images, rotulos in train_loader:\n",
    "        images, rotulos = images.to(device), rotulos.to(device)\n",
    "\n",
    "        optimizer.zero_grad()\n",
    "        outputs = model_img(images)\n",
    "        loss = criterion(outputs, rotulos)\n",
    "        loss.backward()\n",
    "        optimizer.step()\n",
    "\n",
    "        running_loss += loss.item()\n",
    "        _, predicted = torch.max(outputs, 1)\n",
    "        correct += (predicted == rotulos).sum().item()\n",
    "        total += rotulos.size(0)\n",
    "\n",
    "    train_acc = 100 * correct / total\n",
    "    train_loss = running_loss / len(train_loader)\n",
    "\n",
    "    # Validação\n",
    "    model_img.eval()\n",
    "    val_correct = 0\n",
    "    val_total = 0\n",
    "    with torch.no_grad():\n",
    "        for images, rotulos in valid_loader:\n",
    "            images, rotulos = images.to(device), rotulos.to(device)\n",
    "            outputs = model_img(images)\n",
    "            _, predicted = torch.max(outputs, 1)\n",
    "            val_correct += (predicted == rotulos).sum().item()\n",
    "            val_total += rotulos.size(0)\n",
    "    val_acc = 100 * val_correct / val_total\n",
    "\n",
    "    # Resultado \n",
    "    print(f\"Época {epoch+1}/{num_epochs} | Loss: {train_loss:.4f} | Train Acc: {train_acc:.2f}% | Val Acc: {val_acc:.2f}%\")"
   ]
  },
  {
   "cell_type": "code",
   "execution_count": 28,
   "metadata": {},
   "outputs": [
    {
     "name": "stdout",
     "output_type": "stream",
     "text": [
      "Acurácia no teste: 38.30%\n"
     ]
    }
   ],
   "source": [
    "acertos, total = 0, 0\n",
    "with torch.no_grad():\n",
    "    for images, rotulos in test_loader:\n",
    "        images, rotulos = images.to(device), rotulos.to(device)\n",
    "        preds = model_img(images).argmax(1)\n",
    "        acertos += (preds == rotulos).sum().item()\n",
    "        total += rotulos.size(0)\n",
    "print(f\"Acurácia no teste: {100 * acertos / total:.2f}%\")"
   ]
  },
  {
   "cell_type": "code",
   "execution_count": 29,
   "metadata": {},
   "outputs": [],
   "source": [
    "model_img.eval()\n",
    "\n",
    "predicoes = []\n",
    "rotulos = []\n",
    "\n",
    "with torch.no_grad():\n",
    "    for images, labels in test_loader:\n",
    "        images = images.to(device)\n",
    "        outputs = model_img(images)\n",
    "        _, preds = torch.max(outputs, 1)\n",
    "        predicoes.extend(preds.cpu().numpy())\n",
    "        rotulos.extend(labels.cpu().numpy())\n",
    "\n",
    "predicoes = np.array(predicoes)\n",
    "rotulos = np.array(rotulos)\n",
    "\n",
    "class_labels = test_loader.dataset.classes\n",
    "\n",
    "cm3 = confusion_matrix(rotulos, predicoes)"
   ]
  },
  {
   "cell_type": "code",
   "execution_count": 31,
   "metadata": {},
   "outputs": [
    {
     "data": {
      "image/png": "[encoded data removed]",
      "text/plain": [
       "<Figure size 600x500 with 2 Axes>"
      ]
     },
     "metadata": {},
     "output_type": "display_data"
    },
    {
     "name": "stdout",
     "output_type": "stream",
     "text": [
      "Relatório de classificação:\n",
      "\n",
      "              precision    recall  f1-score   support\n",
      "\n",
      "  nowildfire       0.38      0.60      0.46      2820\n",
      "    wildfire       0.39      0.21      0.27      3480\n",
      "\n",
      "    accuracy                           0.38      6300\n",
      "   macro avg       0.39      0.40      0.37      6300\n",
      "weighted avg       0.39      0.38      0.36      6300\n",
      "\n"
     ]
    }
   ],
   "source": [
    "plt.figure(figsize=(6, 5))\n",
    "sns.heatmap(cm3, annot=True, fmt='d', cmap='Oranges_r',\n",
    "            xticklabels=class_labels, yticklabels=class_labels)\n",
    "plt.xlabel('Predição')\n",
    "plt.ylabel('Verdadeiro')\n",
    "plt.title('Matriz de Confusão')\n",
    "plt.tight_layout()\n",
    "plt.show()\n",
    "\n",
    "print(\"Relatório de classificação:\\n\")\n",
    "print(classification_report(rotulos, predicoes, target_names=class_labels))"
   ]
  }
 ],
 "metadata": {
  "kernelspec": {
   "display_name": "Python 3",
   "language": "python",
   "name": "python3"
  },
  "language_info": {
   "codemirror_mode": {
    "name": "ipython",
    "version": 3
   },
   "file_extension": ".py",
   "mimetype": "text/x-python",
   "name": "python",
   "nbconvert_exporter": "python",
   "pygments_lexer": "ipython3",
   "version": "3.10.1"
  }
 },
 "nbformat": 4,
 "nbformat_minor": 2
}
